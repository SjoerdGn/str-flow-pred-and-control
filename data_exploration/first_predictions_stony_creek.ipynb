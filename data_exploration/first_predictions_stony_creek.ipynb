{
 "cells": [
  {
   "cell_type": "code",
   "execution_count": 1,
   "metadata": {},
   "outputs": [],
   "source": [
    "import pandas as pd\n",
    "from pathlib import Path\n",
    "import numpy as np\n",
    "from predcontrol_sf.data_loader import load_data_bom_aus"
   ]
  },
  {
   "cell_type": "code",
   "execution_count": 2,
   "metadata": {},
   "outputs": [],
   "source": [
    "data_folder = Path(r\"C:\\Users\\sgnodde\\Documents\\data\\data_stony_creek_at_spotswood\")"
   ]
  },
  {
   "cell_type": "code",
   "execution_count": 3,
   "metadata": {},
   "outputs": [],
   "source": [
    "rainfall = load_data_bom_aus(data_folder/'stonycreek_rainfall.csv')\n",
    "discharge = load_data_bom_aus(data_folder/'stonycreek_discharge.csv')\n",
    "level = load_data_bom_aus(data_folder/'stonycreek_level.csv')"
   ]
  },
  {
   "cell_type": "code",
   "execution_count": 4,
   "metadata": {},
   "outputs": [],
   "source": [
    "import lightgbm as lgb"
   ]
  },
  {
   "cell_type": "markdown",
   "metadata": {},
   "source": [
    "## Build dataset"
   ]
  },
  {
   "cell_type": "code",
   "execution_count": 15,
   "metadata": {},
   "outputs": [
    {
     "data": {
      "text/html": [
       "<div>\n",
       "<style scoped>\n",
       "    .dataframe tbody tr th:only-of-type {\n",
       "        vertical-align: middle;\n",
       "    }\n",
       "\n",
       "    .dataframe tbody tr th {\n",
       "        vertical-align: top;\n",
       "    }\n",
       "\n",
       "    .dataframe thead th {\n",
       "        text-align: right;\n",
       "    }\n",
       "</style>\n",
       "<table border=\"1\" class=\"dataframe\">\n",
       "  <thead>\n",
       "    <tr style=\"text-align: right;\">\n",
       "      <th></th>\n",
       "      <th>discharge</th>\n",
       "      <th>rainfall</th>\n",
       "    </tr>\n",
       "    <tr>\n",
       "      <th>date</th>\n",
       "      <th></th>\n",
       "      <th></th>\n",
       "    </tr>\n",
       "  </thead>\n",
       "  <tbody>\n",
       "    <tr>\n",
       "      <th>1998-05-22 15:30:00+10:00</th>\n",
       "      <td>0.096000</td>\n",
       "      <td>NaN</td>\n",
       "    </tr>\n",
       "    <tr>\n",
       "      <th>1998-05-22 16:00:00+10:00</th>\n",
       "      <td>0.405667</td>\n",
       "      <td>NaN</td>\n",
       "    </tr>\n",
       "    <tr>\n",
       "      <th>1998-05-22 16:30:00+10:00</th>\n",
       "      <td>0.838333</td>\n",
       "      <td>NaN</td>\n",
       "    </tr>\n",
       "    <tr>\n",
       "      <th>1998-05-22 17:00:00+10:00</th>\n",
       "      <td>0.791000</td>\n",
       "      <td>NaN</td>\n",
       "    </tr>\n",
       "    <tr>\n",
       "      <th>1998-05-22 17:30:00+10:00</th>\n",
       "      <td>0.635333</td>\n",
       "      <td>NaN</td>\n",
       "    </tr>\n",
       "    <tr>\n",
       "      <th>...</th>\n",
       "      <td>...</td>\n",
       "      <td>...</td>\n",
       "    </tr>\n",
       "    <tr>\n",
       "      <th>2022-01-10 22:00:00+10:00</th>\n",
       "      <td>0.050333</td>\n",
       "      <td>NaN</td>\n",
       "    </tr>\n",
       "    <tr>\n",
       "      <th>2022-01-10 22:30:00+10:00</th>\n",
       "      <td>NaN</td>\n",
       "      <td>NaN</td>\n",
       "    </tr>\n",
       "    <tr>\n",
       "      <th>2022-01-10 23:00:00+10:00</th>\n",
       "      <td>0.046000</td>\n",
       "      <td>NaN</td>\n",
       "    </tr>\n",
       "    <tr>\n",
       "      <th>2022-01-10 23:30:00+10:00</th>\n",
       "      <td>0.042000</td>\n",
       "      <td>NaN</td>\n",
       "    </tr>\n",
       "    <tr>\n",
       "      <th>2022-01-11 00:00:00+10:00</th>\n",
       "      <td>0.042000</td>\n",
       "      <td>0.0</td>\n",
       "    </tr>\n",
       "  </tbody>\n",
       "</table>\n",
       "<p>414450 rows × 2 columns</p>\n",
       "</div>"
      ],
      "text/plain": [
       "                           discharge  rainfall\n",
       "date                                          \n",
       "1998-05-22 15:30:00+10:00   0.096000       NaN\n",
       "1998-05-22 16:00:00+10:00   0.405667       NaN\n",
       "1998-05-22 16:30:00+10:00   0.838333       NaN\n",
       "1998-05-22 17:00:00+10:00   0.791000       NaN\n",
       "1998-05-22 17:30:00+10:00   0.635333       NaN\n",
       "...                              ...       ...\n",
       "2022-01-10 22:00:00+10:00   0.050333       NaN\n",
       "2022-01-10 22:30:00+10:00        NaN       NaN\n",
       "2022-01-10 23:00:00+10:00   0.046000       NaN\n",
       "2022-01-10 23:30:00+10:00   0.042000       NaN\n",
       "2022-01-11 00:00:00+10:00   0.042000       0.0\n",
       "\n",
       "[414450 rows x 2 columns]"
      ]
     },
     "execution_count": 15,
     "metadata": {},
     "output_type": "execute_result"
    }
   ],
   "source": [
    "data = discharge[['Value']].copy().rename(columns={'Value':'discharge'})\n",
    "data = data.resample('30min').mean()\n",
    "data['rainfall'] = rainfall['Value'].resample('30min').mean()\n",
    "data\n",
    "#data['rainfall'] = rainfall['Value']\n",
    "#data.isna().mean()\n",
    "\n"
   ]
  },
  {
   "cell_type": "code",
   "execution_count": 17,
   "metadata": {},
   "outputs": [
    {
     "data": {
      "text/plain": [
       "0.9453269683956623"
      ]
     },
     "execution_count": 17,
     "metadata": {},
     "output_type": "execute_result"
    }
   ],
   "source": [
    "rainfall['Value'].resample('30min').mean().isna().mean()"
   ]
  },
  {
   "cell_type": "code",
   "execution_count": 23,
   "metadata": {},
   "outputs": [
    {
     "data": {
      "text/plain": [
       "0.8772682316371637"
      ]
     },
     "execution_count": 23,
     "metadata": {},
     "output_type": "execute_result"
    }
   ],
   "source": [
    "rainfall['Value'].resample('2h').mean().isna().mean()"
   ]
  },
  {
   "cell_type": "code",
   "execution_count": 18,
   "metadata": {},
   "outputs": [
    {
     "data": {
      "text/html": [
       "<div>\n",
       "<style scoped>\n",
       "    .dataframe tbody tr th:only-of-type {\n",
       "        vertical-align: middle;\n",
       "    }\n",
       "\n",
       "    .dataframe tbody tr th {\n",
       "        vertical-align: top;\n",
       "    }\n",
       "\n",
       "    .dataframe thead th {\n",
       "        text-align: right;\n",
       "    }\n",
       "</style>\n",
       "<table border=\"1\" class=\"dataframe\">\n",
       "  <thead>\n",
       "    <tr style=\"text-align: right;\">\n",
       "      <th></th>\n",
       "      <th>Value</th>\n",
       "      <th>Quality Code</th>\n",
       "      <th>Interpolation Type</th>\n",
       "    </tr>\n",
       "    <tr>\n",
       "      <th>date</th>\n",
       "      <th></th>\n",
       "      <th></th>\n",
       "      <th></th>\n",
       "    </tr>\n",
       "  </thead>\n",
       "  <tbody>\n",
       "    <tr>\n",
       "      <th>1999-06-03 23:54:00+10:00</th>\n",
       "      <td>0.0</td>\n",
       "      <td>210</td>\n",
       "      <td>201</td>\n",
       "    </tr>\n",
       "    <tr>\n",
       "      <th>1999-06-04 00:00:00+10:00</th>\n",
       "      <td>0.0</td>\n",
       "      <td>10</td>\n",
       "      <td>201</td>\n",
       "    </tr>\n",
       "    <tr>\n",
       "      <th>1999-06-04 00:06:00+10:00</th>\n",
       "      <td>0.0</td>\n",
       "      <td>210</td>\n",
       "      <td>201</td>\n",
       "    </tr>\n",
       "    <tr>\n",
       "      <th>1999-06-07 08:06:00+10:00</th>\n",
       "      <td>0.0</td>\n",
       "      <td>210</td>\n",
       "      <td>201</td>\n",
       "    </tr>\n",
       "    <tr>\n",
       "      <th>1999-06-07 10:18:00+10:00</th>\n",
       "      <td>0.0</td>\n",
       "      <td>210</td>\n",
       "      <td>201</td>\n",
       "    </tr>\n",
       "    <tr>\n",
       "      <th>...</th>\n",
       "      <td>...</td>\n",
       "      <td>...</td>\n",
       "      <td>...</td>\n",
       "    </tr>\n",
       "    <tr>\n",
       "      <th>2022-01-08 08:03:00+10:00</th>\n",
       "      <td>0.2</td>\n",
       "      <td>140</td>\n",
       "      <td>201</td>\n",
       "    </tr>\n",
       "    <tr>\n",
       "      <th>2022-01-08 15:00:00+10:00</th>\n",
       "      <td>0.0</td>\n",
       "      <td>140</td>\n",
       "      <td>201</td>\n",
       "    </tr>\n",
       "    <tr>\n",
       "      <th>2022-01-08 15:01:00+10:00</th>\n",
       "      <td>0.2</td>\n",
       "      <td>140</td>\n",
       "      <td>201</td>\n",
       "    </tr>\n",
       "    <tr>\n",
       "      <th>2022-01-08 23:59:00+10:00</th>\n",
       "      <td>0.0</td>\n",
       "      <td>140</td>\n",
       "      <td>201</td>\n",
       "    </tr>\n",
       "    <tr>\n",
       "      <th>2022-01-11 00:00:00+10:00</th>\n",
       "      <td>0.0</td>\n",
       "      <td>140</td>\n",
       "      <td>201</td>\n",
       "    </tr>\n",
       "  </tbody>\n",
       "</table>\n",
       "<p>60919 rows × 3 columns</p>\n",
       "</div>"
      ],
      "text/plain": [
       "                           Value  Quality Code  Interpolation Type\n",
       "date                                                              \n",
       "1999-06-03 23:54:00+10:00    0.0           210                 201\n",
       "1999-06-04 00:00:00+10:00    0.0            10                 201\n",
       "1999-06-04 00:06:00+10:00    0.0           210                 201\n",
       "1999-06-07 08:06:00+10:00    0.0           210                 201\n",
       "1999-06-07 10:18:00+10:00    0.0           210                 201\n",
       "...                          ...           ...                 ...\n",
       "2022-01-08 08:03:00+10:00    0.2           140                 201\n",
       "2022-01-08 15:00:00+10:00    0.0           140                 201\n",
       "2022-01-08 15:01:00+10:00    0.2           140                 201\n",
       "2022-01-08 23:59:00+10:00    0.0           140                 201\n",
       "2022-01-11 00:00:00+10:00    0.0           140                 201\n",
       "\n",
       "[60919 rows x 3 columns]"
      ]
     },
     "execution_count": 18,
     "metadata": {},
     "output_type": "execute_result"
    }
   ],
   "source": [
    "rainfall"
   ]
  }
 ],
 "metadata": {
  "interpreter": {
   "hash": "e9bf5ea6756989dd3d95b9af5c0fcac745957fdd5ffeb8383041856ffe00f994"
  },
  "kernelspec": {
   "display_name": "Python 3.9.7 64-bit ('prediction_and_neat': conda)",
   "language": "python",
   "name": "python3"
  },
  "language_info": {
   "codemirror_mode": {
    "name": "ipython",
    "version": 3
   },
   "file_extension": ".py",
   "mimetype": "text/x-python",
   "name": "python",
   "nbconvert_exporter": "python",
   "pygments_lexer": "ipython3",
   "version": "3.9.7"
  },
  "orig_nbformat": 4
 },
 "nbformat": 4,
 "nbformat_minor": 2
}
