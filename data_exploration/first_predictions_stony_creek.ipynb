{
 "cells": [
  {
   "cell_type": "code",
   "execution_count": 33,
   "metadata": {},
   "outputs": [],
   "source": [
    "import pandas as pd\n",
    "from pathlib import Path\n",
    "import numpy as np\n",
    "from predcontrol_sf.data_loader import load_data_bom_aus\n",
    "import matplotlib.pyplot as plt\n",
    "from sklearn.metrics import r2_score"
   ]
  },
  {
   "cell_type": "code",
   "execution_count": 2,
   "metadata": {},
   "outputs": [],
   "source": [
    "data_folder = Path(r\"C:\\Users\\sgnodde\\Documents\\data\\data_stony_creek_at_spotswood\")"
   ]
  },
  {
   "cell_type": "code",
   "execution_count": 127,
   "metadata": {},
   "outputs": [],
   "source": [
    "rainfall = load_data_bom_aus(data_folder/'stonycreek_rainfall.csv')\n",
    "discharge = load_data_bom_aus(data_folder/'stonycreek_discharge.csv')\n",
    "level = load_data_bom_aus(data_folder/'stonycreek_level.csv')"
   ]
  },
  {
   "cell_type": "code",
   "execution_count": 128,
   "metadata": {},
   "outputs": [],
   "source": [
    "import lightgbm as lgb"
   ]
  },
  {
   "cell_type": "markdown",
   "metadata": {},
   "source": [
    "## Build dataset"
   ]
  },
  {
   "cell_type": "code",
   "execution_count": 219,
   "metadata": {},
   "outputs": [],
   "source": [
    "data = discharge[['Value']].copy().rename(columns={'Value':'discharge'})\n",
    "data = data.resample('30min').mean()\n",
    "data['rainfall'] = rainfall['Value'].resample('30min').mean()\n",
    "\n",
    "data['rainfall'] = data['rainfall'].bfill(limit=2)\n",
    "data['rainfall'] = data['rainfall'].fillna(0)\n",
    "\n",
    "# Fake predictions: \n",
    "data['rainfall_pred_1'] = data['rainfall'].shift(-2)+np.random.gumbel(loc=0.0, scale=.5, size=len(data))\n",
    "data['rainfall_pred_1'][data['rainfall_pred_1'] < 0] = 0\n",
    "data['rainfall_pred_1'][data['rainfall'].shift(-2) < 1] = data['rainfall_pred_1'][data['rainfall'].shift(-2) < 1]/10 \n",
    "\n",
    "data['rainfall_pred_2'] = data['rainfall'].shift(-4)+np.random.gumbel(loc=0.0, scale=.8, size=len(data))\n",
    "data['rainfall_pred_2'][data['rainfall_pred_2'] < 0] = 0\n",
    "data['rainfall_pred_2'][data['rainfall'].shift(-4) < 1] = data['rainfall_pred_2'][data['rainfall'].shift(-4) < 1]/10 \n",
    "\n",
    "data['discharge'] = data['discharge'].interpolate()\n",
    "\n",
    "\n",
    "data['level'] = level['Value'].resample('30min').mean()\n",
    "data['level'] = data['discharge'].interpolate()\n",
    "data['level_diff'] = data['level'].diff()\n",
    "data['level_diff_2'] = data['level'].diff(2)\n",
    "\n",
    "DAYS_IN_YEAR = 365.25\n",
    "norm_index = 2 * np.pi * data.index.dayofyear / DAYS_IN_YEAR\n",
    "data['sin_day'] = np.sin(norm_index)\n",
    "data['cos_day'] = np.cos(norm_index)\n",
    "for i in [3,9,20]:\n",
    "    for column in ['discharge', 'rainfall']:\n",
    "        data[f'{column}_rolling_{i}'] = data[column].rolling(i).mean()\n",
    "data['target'] = data['discharge'].shift(-4)\n",
    "\n",
    "data = data.dropna()\n",
    "\n",
    "data_train = data.loc[:\"2016\"]\n",
    "\n",
    "data_valid = data.loc[\"2017\":\"2019\"]\n",
    "data_test = data.loc[\"2020\":]\n",
    "X_train = data_train.drop(columns=\"target\")\n",
    "y_train = data_train['target']\n",
    "X_valid = data_valid.drop(columns=\"target\")\n",
    "y_valid = data_valid[\"target\"]\n",
    "\n"
   ]
  },
  {
   "cell_type": "code",
   "execution_count": 220,
   "metadata": {},
   "outputs": [
    {
     "data": {
      "text/plain": [
       "<AxesSubplot:>"
      ]
     },
     "execution_count": 220,
     "metadata": {},
     "output_type": "execute_result"
    },
    {
     "data": {
      "image/png": "[encoded data removed]",
      "text/plain": [
       "<Figure size 432x288 with 1 Axes>"
      ]
     },
     "metadata": {
      "needs_background": "light"
     },
     "output_type": "display_data"
    }
   ],
   "source": [
    "pd.Series(np.random.gumbel(loc=0.0, scale=.6, size=len(data))).hist(bins=50)"
   ]
  },
  {
   "cell_type": "code",
   "execution_count": 221,
   "metadata": {},
   "outputs": [
    {
     "data": {
      "text/plain": [
       "(0.0, 100.0)"
      ]
     },
     "execution_count": 221,
     "metadata": {},
     "output_type": "execute_result"
    },
    {
     "data": {
      "image/png": "[encoded data removed]",
      "text/plain": [
       "<Figure size 432x288 with 1 Axes>"
      ]
     },
     "metadata": {
      "needs_background": "light"
     },
     "output_type": "display_data"
    }
   ],
   "source": [
    "data['rainfall'].hist(bins=100)\n",
    "plt.ylim(0,100)"
   ]
  },
  {
   "cell_type": "code",
   "execution_count": 222,
   "metadata": {},
   "outputs": [],
   "source": [
    "lgb_train = lgb.Dataset(X_train, y_train)\n",
    "lgb_eval = lgb.Dataset(X_valid, y_valid, reference=lgb_train)"
   ]
  },
  {
   "cell_type": "code",
   "execution_count": 223,
   "metadata": {},
   "outputs": [],
   "source": [
    "params = {\n",
    "    'boosting_type': 'gbdt',\n",
    "    'objective': 'regression',\n",
    "    'metric': {'l2', 'l1'},\n",
    "    'num_leaves': 31,\n",
    "    'learning_rate': 0.05,\n",
    "    'feature_fraction': 0.9,\n",
    "    'bagging_fraction': 0.8,\n",
    "    'bagging_freq': 5,\n",
    "    'verbose': 0\n",
    "}"
   ]
  },
  {
   "cell_type": "code",
   "execution_count": 224,
   "metadata": {},
   "outputs": [
    {
     "name": "stdout",
     "output_type": "stream",
     "text": [
      "[LightGBM] [Warning] Auto-choosing row-wise multi-threading, the overhead of testing was 0.010632 seconds.\n",
      "You can set `force_row_wise=true` to remove the overhead.\n",
      "And if memory is not enough, you can set `force_col_wise=true`.\n",
      "Training until validation scores don't improve for 5 rounds\n",
      "Did not meet early stopping. Best iteration is:\n",
      "[20]\tvalid_0's l2: 0.174261\tvalid_0's l1: 0.073816\n",
      "Saving model...\n"
     ]
    },
    {
     "data": {
      "text/plain": [
       "<lightgbm.basic.Booster at 0x21d976fe190>"
      ]
     },
     "execution_count": 224,
     "metadata": {},
     "output_type": "execute_result"
    }
   ],
   "source": [
    "gbm = lgb.train(params,\n",
    "                lgb_train,\n",
    "                num_boost_round=20,\n",
    "                valid_sets=lgb_eval,\n",
    "                callbacks=[lgb.early_stopping(stopping_rounds=5)])\n",
    "\n",
    "print('Saving model...')\n",
    "# save model to file\n",
    "gbm.save_model('model.txt')\n",
    "\n"
   ]
  },
  {
   "cell_type": "code",
   "execution_count": 225,
   "metadata": {},
   "outputs": [
    {
     "name": "stdout",
     "output_type": "stream",
     "text": [
      "Starting predicting...\n",
      "The R2 score of prediction is: 0.41684836585205076\n"
     ]
    }
   ],
   "source": [
    "print('Starting predicting...')\n",
    "# predict\n",
    "y_pred = gbm.predict(X_valid, num_iteration=gbm.best_iteration)\n",
    "# eval\n",
    "r2_valid = r2_score(y_valid, y_pred)\n",
    "print(f'The R2 score of prediction is: {r2_valid}')"
   ]
  },
  {
   "cell_type": "code",
   "execution_count": 197,
   "metadata": {},
   "outputs": [
    {
     "data": {
      "text/plain": [
       "[<matplotlib.lines.Line2D at 0x21d9ab582e0>]"
      ]
     },
     "execution_count": 197,
     "metadata": {},
     "output_type": "execute_result"
    },
    {
     "data": {
      "image/png": "[encoded data removed]",
      "text/plain": [
       "<Figure size 864x576 with 1 Axes>"
      ]
     },
     "metadata": {
      "needs_background": "light"
     },
     "output_type": "display_data"
    }
   ],
   "source": [
    "plt.figure(figsize=(12,8))\n",
    "\n",
    "plt.plot(y_valid)\n",
    "plt.plot(pd.Series(y_pred, index=y_valid.index))\n"
   ]
  },
  {
   "cell_type": "code",
   "execution_count": 135,
   "metadata": {},
   "outputs": [
    {
     "data": {
      "text/plain": [
       "<matplotlib.collections.PathCollection at 0x21dfc3a5b80>"
      ]
     },
     "execution_count": 135,
     "metadata": {},
     "output_type": "execute_result"
    },
    {
     "data": {
      "image/png": "[encoded data removed]",
      "text/plain": [
       "<Figure size 432x288 with 1 Axes>"
      ]
     },
     "metadata": {
      "needs_background": "light"
     },
     "output_type": "display_data"
    }
   ],
   "source": [
    "plt.scatter(y_valid, pd.Series(y_pred, index=y_valid.index))"
   ]
  },
  {
   "cell_type": "code",
   "execution_count": 136,
   "metadata": {},
   "outputs": [
    {
     "data": {
      "text/plain": [
       "0.27500979898142297"
      ]
     },
     "execution_count": 136,
     "metadata": {},
     "output_type": "execute_result"
    }
   ],
   "source": [
    "r2_score(y_valid[4:], y_valid.shift(4)[4:])"
   ]
  },
  {
   "cell_type": "code",
   "execution_count": 137,
   "metadata": {},
   "outputs": [
    {
     "data": {
      "text/plain": [
       "<AxesSubplot:xlabel='date'>"
      ]
     },
     "execution_count": 137,
     "metadata": {},
     "output_type": "execute_result"
    },
    {
     "data": {
      "image/png": "[encoded data removed]",
      "text/plain": [
       "<Figure size 432x288 with 1 Axes>"
      ]
     },
     "metadata": {
      "needs_background": "light"
     },
     "output_type": "display_data"
    }
   ],
   "source": [
    "data['target']['2020-02'].plot()"
   ]
  },
  {
   "cell_type": "code",
   "execution_count": 138,
   "metadata": {},
   "outputs": [
    {
     "data": {
      "text/plain": [
       "<AxesSubplot:xlabel='date'>"
      ]
     },
     "execution_count": 138,
     "metadata": {},
     "output_type": "execute_result"
    },
    {
     "data": {
      "image/png": "[encoded data removed]",
      "text/plain": [
       "<Figure size 432x288 with 1 Axes>"
      ]
     },
     "metadata": {
      "needs_background": "light"
     },
     "output_type": "display_data"
    }
   ],
   "source": [
    "data[['rainfall','target']].resample('y').mean().plot()"
   ]
  },
  {
   "cell_type": "code",
   "execution_count": 8,
   "metadata": {},
   "outputs": [
    {
     "data": {
      "text/plain": [
       "<matplotlib.collections.PathCollection at 0x21dc373d7f0>"
      ]
     },
     "execution_count": 8,
     "metadata": {},
     "output_type": "execute_result"
    },
    {
     "data": {
      "image/png": "[encoded data removed]",
      "text/plain": [
       "<Figure size 432x288 with 1 Axes>"
      ]
     },
     "metadata": {
      "needs_background": "light"
     },
     "output_type": "display_data"
    }
   ],
   "source": [
    "plt.scatter(rainfall.index.to_series().diff().dt.seconds, rainfall['Value'])\n",
    "\n",
    "\n",
    "\n"
   ]
  },
  {
   "cell_type": "code",
   "execution_count": 11,
   "metadata": {},
   "outputs": [
    {
     "data": {
      "text/plain": [
       "array([[nan, nan],\n",
       "       [nan,  1.]])"
      ]
     },
     "execution_count": 11,
     "metadata": {},
     "output_type": "execute_result"
    }
   ],
   "source": [
    "np.corrcoef(rainfall_2.index.to_series().diff().dt.seconds, rainfall_2['Value'])\n"
   ]
  },
  {
   "cell_type": "code",
   "execution_count": 13,
   "metadata": {},
   "outputs": [
    {
     "name": "stderr",
     "output_type": "stream",
     "text": [
      "C:\\Users\\sgnodde\\AppData\\Local\\Temp/ipykernel_20176/361827962.py:2: SettingWithCopyWarning: \n",
      "A value is trying to be set on a copy of a slice from a DataFrame.\n",
      "Try using .loc[row_indexer,col_indexer] = value instead\n",
      "\n",
      "See the caveats in the documentation: https://pandas.pydata.org/pandas-docs/stable/user_guide/indexing.html#returning-a-view-versus-a-copy\n",
      "  corr_df['gap'] = rainfall.index.to_series().diff().dt.seconds\n"
     ]
    },
    {
     "data": {
      "text/html": [
       "<div>\n",
       "<style scoped>\n",
       "    .dataframe tbody tr th:only-of-type {\n",
       "        vertical-align: middle;\n",
       "    }\n",
       "\n",
       "    .dataframe tbody tr th {\n",
       "        vertical-align: top;\n",
       "    }\n",
       "\n",
       "    .dataframe thead th {\n",
       "        text-align: right;\n",
       "    }\n",
       "</style>\n",
       "<table border=\"1\" class=\"dataframe\">\n",
       "  <thead>\n",
       "    <tr style=\"text-align: right;\">\n",
       "      <th></th>\n",
       "      <th>Value</th>\n",
       "      <th>gap</th>\n",
       "    </tr>\n",
       "  </thead>\n",
       "  <tbody>\n",
       "    <tr>\n",
       "      <th>Value</th>\n",
       "      <td>1.000000</td>\n",
       "      <td>-0.175823</td>\n",
       "    </tr>\n",
       "    <tr>\n",
       "      <th>gap</th>\n",
       "      <td>-0.175823</td>\n",
       "      <td>1.000000</td>\n",
       "    </tr>\n",
       "  </tbody>\n",
       "</table>\n",
       "</div>"
      ],
      "text/plain": [
       "          Value       gap\n",
       "Value  1.000000 -0.175823\n",
       "gap   -0.175823  1.000000"
      ]
     },
     "execution_count": 13,
     "metadata": {},
     "output_type": "execute_result"
    }
   ],
   "source": [
    "corr_df = rainfall[['Value']]\n",
    "corr_df['gap'] = rainfall.index.to_series().diff().dt.seconds\n",
    "corr_df = corr_df.dropna()\n",
    "corr_df.corr()"
   ]
  },
  {
   "cell_type": "code",
   "execution_count": 12,
   "metadata": {},
   "outputs": [
    {
     "data": {
      "text/html": [
       "<div>\n",
       "<style scoped>\n",
       "    .dataframe tbody tr th:only-of-type {\n",
       "        vertical-align: middle;\n",
       "    }\n",
       "\n",
       "    .dataframe tbody tr th {\n",
       "        vertical-align: top;\n",
       "    }\n",
       "\n",
       "    .dataframe thead th {\n",
       "        text-align: right;\n",
       "    }\n",
       "</style>\n",
       "<table border=\"1\" class=\"dataframe\">\n",
       "  <thead>\n",
       "    <tr style=\"text-align: right;\">\n",
       "      <th></th>\n",
       "      <th>Value</th>\n",
       "      <th>Quality Code</th>\n",
       "      <th>Interpolation Type</th>\n",
       "    </tr>\n",
       "    <tr>\n",
       "      <th>date</th>\n",
       "      <th></th>\n",
       "      <th></th>\n",
       "      <th></th>\n",
       "    </tr>\n",
       "  </thead>\n",
       "  <tbody>\n",
       "    <tr>\n",
       "      <th>1999-06-03 23:54:00+10:00</th>\n",
       "      <td>0.0</td>\n",
       "      <td>210</td>\n",
       "      <td>201</td>\n",
       "    </tr>\n",
       "    <tr>\n",
       "      <th>1999-06-04 00:00:00+10:00</th>\n",
       "      <td>0.0</td>\n",
       "      <td>10</td>\n",
       "      <td>201</td>\n",
       "    </tr>\n",
       "    <tr>\n",
       "      <th>1999-06-04 00:06:00+10:00</th>\n",
       "      <td>0.0</td>\n",
       "      <td>210</td>\n",
       "      <td>201</td>\n",
       "    </tr>\n",
       "    <tr>\n",
       "      <th>1999-06-07 08:06:00+10:00</th>\n",
       "      <td>0.0</td>\n",
       "      <td>210</td>\n",
       "      <td>201</td>\n",
       "    </tr>\n",
       "    <tr>\n",
       "      <th>1999-06-07 10:18:00+10:00</th>\n",
       "      <td>0.0</td>\n",
       "      <td>210</td>\n",
       "      <td>201</td>\n",
       "    </tr>\n",
       "    <tr>\n",
       "      <th>...</th>\n",
       "      <td>...</td>\n",
       "      <td>...</td>\n",
       "      <td>...</td>\n",
       "    </tr>\n",
       "    <tr>\n",
       "      <th>2022-01-08 08:03:00+10:00</th>\n",
       "      <td>0.2</td>\n",
       "      <td>140</td>\n",
       "      <td>201</td>\n",
       "    </tr>\n",
       "    <tr>\n",
       "      <th>2022-01-08 15:00:00+10:00</th>\n",
       "      <td>0.0</td>\n",
       "      <td>140</td>\n",
       "      <td>201</td>\n",
       "    </tr>\n",
       "    <tr>\n",
       "      <th>2022-01-08 15:01:00+10:00</th>\n",
       "      <td>0.2</td>\n",
       "      <td>140</td>\n",
       "      <td>201</td>\n",
       "    </tr>\n",
       "    <tr>\n",
       "      <th>2022-01-08 23:59:00+10:00</th>\n",
       "      <td>0.0</td>\n",
       "      <td>140</td>\n",
       "      <td>201</td>\n",
       "    </tr>\n",
       "    <tr>\n",
       "      <th>2022-01-11 00:00:00+10:00</th>\n",
       "      <td>0.0</td>\n",
       "      <td>140</td>\n",
       "      <td>201</td>\n",
       "    </tr>\n",
       "  </tbody>\n",
       "</table>\n",
       "<p>60883 rows × 3 columns</p>\n",
       "</div>"
      ],
      "text/plain": [
       "                           Value  Quality Code  Interpolation Type\n",
       "date                                                              \n",
       "1999-06-03 23:54:00+10:00    0.0           210                 201\n",
       "1999-06-04 00:00:00+10:00    0.0            10                 201\n",
       "1999-06-04 00:06:00+10:00    0.0           210                 201\n",
       "1999-06-07 08:06:00+10:00    0.0           210                 201\n",
       "1999-06-07 10:18:00+10:00    0.0           210                 201\n",
       "...                          ...           ...                 ...\n",
       "2022-01-08 08:03:00+10:00    0.2           140                 201\n",
       "2022-01-08 15:00:00+10:00    0.0           140                 201\n",
       "2022-01-08 15:01:00+10:00    0.2           140                 201\n",
       "2022-01-08 23:59:00+10:00    0.0           140                 201\n",
       "2022-01-11 00:00:00+10:00    0.0           140                 201\n",
       "\n",
       "[60883 rows x 3 columns]"
      ]
     },
     "execution_count": 12,
     "metadata": {},
     "output_type": "execute_result"
    }
   ],
   "source": [
    "rainfall_2"
   ]
  },
  {
   "cell_type": "code",
   "execution_count": 10,
   "metadata": {},
   "outputs": [],
   "source": [
    "rainfall_2 = rainfall.dropna()"
   ]
  },
  {
   "cell_type": "code",
   "execution_count": 17,
   "metadata": {},
   "outputs": [
    {
     "data": {
      "text/plain": [
       "0.9453269683956623"
      ]
     },
     "execution_count": 17,
     "metadata": {},
     "output_type": "execute_result"
    }
   ],
   "source": [
    "rainfall['Value'].resample('30min').mean().isna().mean()"
   ]
  },
  {
   "cell_type": "code",
   "execution_count": 23,
   "metadata": {},
   "outputs": [
    {
     "data": {
      "text/plain": [
       "0.8772682316371637"
      ]
     },
     "execution_count": 23,
     "metadata": {},
     "output_type": "execute_result"
    }
   ],
   "source": [
    "rainfall['Value'].resample('2h').mean().isna().mean()"
   ]
  },
  {
   "cell_type": "code",
   "execution_count": 18,
   "metadata": {},
   "outputs": [
    {
     "data": {
      "text/html": [
       "<div>\n",
       "<style scoped>\n",
       "    .dataframe tbody tr th:only-of-type {\n",
       "        vertical-align: middle;\n",
       "    }\n",
       "\n",
       "    .dataframe tbody tr th {\n",
       "        vertical-align: top;\n",
       "    }\n",
       "\n",
       "    .dataframe thead th {\n",
       "        text-align: right;\n",
       "    }\n",
       "</style>\n",
       "<table border=\"1\" class=\"dataframe\">\n",
       "  <thead>\n",
       "    <tr style=\"text-align: right;\">\n",
       "      <th></th>\n",
       "      <th>Value</th>\n",
       "      <th>Quality Code</th>\n",
       "      <th>Interpolation Type</th>\n",
       "    </tr>\n",
       "    <tr>\n",
       "      <th>date</th>\n",
       "      <th></th>\n",
       "      <th></th>\n",
       "      <th></th>\n",
       "    </tr>\n",
       "  </thead>\n",
       "  <tbody>\n",
       "    <tr>\n",
       "      <th>1999-06-03 23:54:00+10:00</th>\n",
       "      <td>0.0</td>\n",
       "      <td>210</td>\n",
       "      <td>201</td>\n",
       "    </tr>\n",
       "    <tr>\n",
       "      <th>1999-06-04 00:00:00+10:00</th>\n",
       "      <td>0.0</td>\n",
       "      <td>10</td>\n",
       "      <td>201</td>\n",
       "    </tr>\n",
       "    <tr>\n",
       "      <th>1999-06-04 00:06:00+10:00</th>\n",
       "      <td>0.0</td>\n",
       "      <td>210</td>\n",
       "      <td>201</td>\n",
       "    </tr>\n",
       "    <tr>\n",
       "      <th>1999-06-07 08:06:00+10:00</th>\n",
       "      <td>0.0</td>\n",
       "      <td>210</td>\n",
       "      <td>201</td>\n",
       "    </tr>\n",
       "    <tr>\n",
       "      <th>1999-06-07 10:18:00+10:00</th>\n",
       "      <td>0.0</td>\n",
       "      <td>210</td>\n",
       "      <td>201</td>\n",
       "    </tr>\n",
       "    <tr>\n",
       "      <th>...</th>\n",
       "      <td>...</td>\n",
       "      <td>...</td>\n",
       "      <td>...</td>\n",
       "    </tr>\n",
       "    <tr>\n",
       "      <th>2022-01-08 08:03:00+10:00</th>\n",
       "      <td>0.2</td>\n",
       "      <td>140</td>\n",
       "      <td>201</td>\n",
       "    </tr>\n",
       "    <tr>\n",
       "      <th>2022-01-08 15:00:00+10:00</th>\n",
       "      <td>0.0</td>\n",
       "      <td>140</td>\n",
       "      <td>201</td>\n",
       "    </tr>\n",
       "    <tr>\n",
       "      <th>2022-01-08 15:01:00+10:00</th>\n",
       "      <td>0.2</td>\n",
       "      <td>140</td>\n",
       "      <td>201</td>\n",
       "    </tr>\n",
       "    <tr>\n",
       "      <th>2022-01-08 23:59:00+10:00</th>\n",
       "      <td>0.0</td>\n",
       "      <td>140</td>\n",
       "      <td>201</td>\n",
       "    </tr>\n",
       "    <tr>\n",
       "      <th>2022-01-11 00:00:00+10:00</th>\n",
       "      <td>0.0</td>\n",
       "      <td>140</td>\n",
       "      <td>201</td>\n",
       "    </tr>\n",
       "  </tbody>\n",
       "</table>\n",
       "<p>60919 rows × 3 columns</p>\n",
       "</div>"
      ],
      "text/plain": [
       "                           Value  Quality Code  Interpolation Type\n",
       "date                                                              \n",
       "1999-06-03 23:54:00+10:00    0.0           210                 201\n",
       "1999-06-04 00:00:00+10:00    0.0            10                 201\n",
       "1999-06-04 00:06:00+10:00    0.0           210                 201\n",
       "1999-06-07 08:06:00+10:00    0.0           210                 201\n",
       "1999-06-07 10:18:00+10:00    0.0           210                 201\n",
       "...                          ...           ...                 ...\n",
       "2022-01-08 08:03:00+10:00    0.2           140                 201\n",
       "2022-01-08 15:00:00+10:00    0.0           140                 201\n",
       "2022-01-08 15:01:00+10:00    0.2           140                 201\n",
       "2022-01-08 23:59:00+10:00    0.0           140                 201\n",
       "2022-01-11 00:00:00+10:00    0.0           140                 201\n",
       "\n",
       "[60919 rows x 3 columns]"
      ]
     },
     "execution_count": 18,
     "metadata": {},
     "output_type": "execute_result"
    }
   ],
   "source": [
    "rainfall"
   ]
  }
 ],
 "metadata": {
  "interpreter": {
   "hash": "e9bf5ea6756989dd3d95b9af5c0fcac745957fdd5ffeb8383041856ffe00f994"
  },
  "kernelspec": {
   "display_name": "Python 3.9.7 64-bit ('prediction_and_neat': conda)",
   "language": "python",
   "name": "python3"
  },
  "language_info": {
   "codemirror_mode": {
    "name": "ipython",
    "version": 3
   },
   "file_extension": ".py",
   "mimetype": "text/x-python",
   "name": "python",
   "nbconvert_exporter": "python",
   "pygments_lexer": "ipython3",
   "version": "3.9.7"
  },
  "orig_nbformat": 4
 },
 "nbformat": 4,
 "nbformat_minor": 2
}
