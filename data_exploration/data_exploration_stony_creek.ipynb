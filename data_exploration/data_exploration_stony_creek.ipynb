{
 "cells": [
  {
   "cell_type": "code",
   "execution_count": 1,
   "metadata": {},
   "outputs": [],
   "source": [
    "import pandas as pd\n",
    "from pathlib import Path\n",
    "import numpy as np\n",
    "from predcontrol_sf.data_loader import load_data_bom_aus"
   ]
  },
  {
   "cell_type": "code",
   "execution_count": 2,
   "metadata": {},
   "outputs": [],
   "source": [
    "data_folder = Path(r\"C:\\Users\\sgnodde\\Documents\\data\\data_stony_creek_at_spotswood\")\n",
    "\n"
   ]
  },
  {
   "cell_type": "code",
   "execution_count": 3,
   "metadata": {},
   "outputs": [],
   "source": [
    "rainfall = load_data_bom_aus(data_folder/'stonycreek_rainfall.csv')\n",
    "discharge = load_data_bom_aus(data_folder/'stonycreek_discharge.csv')\n",
    "level = load_data_bom_aus(data_folder/'stonycreek_level.csv')"
   ]
  },
  {
   "cell_type": "code",
   "execution_count": 4,
   "metadata": {},
   "outputs": [
    {
     "data": {
      "text/plain": [
       "<AxesSubplot:xlabel='date'>"
      ]
     },
     "execution_count": 4,
     "metadata": {},
     "output_type": "execute_result"
    },
    {
     "data": {
      "image/png": "[encoded data removed]",
      "text/plain": [
       "<Figure size 432x288 with 1 Axes>"
      ]
     },
     "metadata": {
      "needs_background": "light"
     },
     "output_type": "display_data"
    }
   ],
   "source": [
    "level['Value'].plot()"
   ]
  },
  {
   "cell_type": "code",
   "execution_count": 5,
   "metadata": {},
   "outputs": [
    {
     "data": {
      "text/plain": [
       "360.0      208288\n",
       "720.0       16350\n",
       "1440.0      10590\n",
       "1080.0       9360\n",
       "1800.0       6223\n",
       "            ...  \n",
       "1079.0          1\n",
       "22679.0         1\n",
       "7740.0          1\n",
       "2280.0          1\n",
       "3239.0          1\n",
       "Name: date, Length: 342, dtype: int64"
      ]
     },
     "execution_count": 5,
     "metadata": {},
     "output_type": "execute_result"
    }
   ],
   "source": [
    "level.index.to_series().diff().dt.seconds.value_counts()"
   ]
  },
  {
   "cell_type": "code",
   "execution_count": 6,
   "metadata": {},
   "outputs": [
    {
     "data": {
      "text/plain": [
       "360.0      208293\n",
       "720.0       16351\n",
       "1440.0      10590\n",
       "1080.0       9361\n",
       "1800.0       6223\n",
       "            ...  \n",
       "51420.0         1\n",
       "29820.0         1\n",
       "26340.0         1\n",
       "1320.0          1\n",
       "719.0           1\n",
       "Name: date, Length: 328, dtype: int64"
      ]
     },
     "execution_count": 6,
     "metadata": {},
     "output_type": "execute_result"
    }
   ],
   "source": [
    "discharge.index.to_series().diff().dt.seconds.value_counts()"
   ]
  },
  {
   "cell_type": "code",
   "execution_count": 7,
   "metadata": {},
   "outputs": [
    {
     "data": {
      "text/plain": [
       "0.6597751684336227"
      ]
     },
     "execution_count": 7,
     "metadata": {},
     "output_type": "execute_result"
    }
   ],
   "source": [
    "discharge.index.to_series().diff().dt.seconds.value_counts().iloc[0]/len(discharge)"
   ]
  },
  {
   "cell_type": "code",
   "execution_count": 8,
   "metadata": {},
   "outputs": [
    {
     "data": {
      "text/plain": [
       "360.0      34580\n",
       "60.0        9003\n",
       "720.0       1430\n",
       "1080.0       897\n",
       "120.0        772\n",
       "           ...  \n",
       "21780.0        1\n",
       "15360.0        1\n",
       "29220.0        1\n",
       "54060.0        1\n",
       "32280.0        1\n",
       "Name: date, Length: 1029, dtype: int64"
      ]
     },
     "execution_count": 8,
     "metadata": {},
     "output_type": "execute_result"
    }
   ],
   "source": [
    "rainfall.index.to_series().diff().dt.seconds.value_counts()"
   ]
  },
  {
   "cell_type": "code",
   "execution_count": 9,
   "metadata": {},
   "outputs": [
    {
     "data": {
      "text/plain": [
       "0.5676389960439272"
      ]
     },
     "execution_count": 9,
     "metadata": {},
     "output_type": "execute_result"
    }
   ],
   "source": [
    "rainfall.index.to_series().diff().dt.seconds.value_counts().iloc[0]/len(rainfall)"
   ]
  }
 ],
 "metadata": {
  "interpreter": {
   "hash": "e9bf5ea6756989dd3d95b9af5c0fcac745957fdd5ffeb8383041856ffe00f994"
  },
  "kernelspec": {
   "display_name": "Python 3.9.7 64-bit ('prediction_and_neat': conda)",
   "language": "python",
   "name": "python3"
  },
  "language_info": {
   "codemirror_mode": {
    "name": "ipython",
    "version": 3
   },
   "file_extension": ".py",
   "mimetype": "text/x-python",
   "name": "python",
   "nbconvert_exporter": "python",
   "pygments_lexer": "ipython3",
   "version": "3.9.7"
  },
  "orig_nbformat": 4
 },
 "nbformat": 4,
 "nbformat_minor": 2
}
