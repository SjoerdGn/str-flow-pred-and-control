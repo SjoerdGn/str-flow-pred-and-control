{
 "cells": [
  {
   "cell_type": "code",
   "execution_count": 11,
   "metadata": {},
   "outputs": [],
   "source": [
    "import pandas as pd\n",
    "import pandas as pd\n",
    "import matplotlib.pyplot as plt\n",
    "import numpy as np\n",
    "from predcontrol_sf.control import User, Control\n",
    "import predcontrol_sf.value_curves as vc\n",
    "from predcontrol_sf.data_loader import load_data_bom_aus\n",
    "from pathlib import Path\n",
    "import datetime as dt\n"
   ]
  },
  {
   "cell_type": "code",
   "execution_count": 12,
   "metadata": {},
   "outputs": [],
   "source": [
    "user1 = User(vc.value_curve_farmer_1, discharge_curve=vc.discharge_curve_farmer_1)\n",
    "user2 = User(vc.value_curve_farmer_2)"
   ]
  },
  {
   "cell_type": "code",
   "execution_count": 13,
   "metadata": {},
   "outputs": [],
   "source": [
    "ctrl = Control([user1, user2])"
   ]
  },
  {
   "cell_type": "code",
   "execution_count": 14,
   "metadata": {},
   "outputs": [],
   "source": [
    "data_folder = Path(r\"C:\\Users\\sgnodde\\Documents\\data\\data_murray_boundary_bend\")\n",
    "bb_discharge = load_data_bom_aus(data_folder / 'bb_discharge.csv')\n",
    "level = load_data_bom_aus(data_folder / 'bb_level.csv')"
   ]
  },
  {
   "cell_type": "code",
   "execution_count": 15,
   "metadata": {},
   "outputs": [
    {
     "data": {
      "text/html": [
       "<div>\n",
       "<style scoped>\n",
       "    .dataframe tbody tr th:only-of-type {\n",
       "        vertical-align: middle;\n",
       "    }\n",
       "\n",
       "    .dataframe tbody tr th {\n",
       "        vertical-align: top;\n",
       "    }\n",
       "\n",
       "    .dataframe thead th {\n",
       "        text-align: right;\n",
       "    }\n",
       "</style>\n",
       "<table border=\"1\" class=\"dataframe\">\n",
       "  <thead>\n",
       "    <tr style=\"text-align: right;\">\n",
       "      <th></th>\n",
       "      <th>level</th>\n",
       "      <th>discharge</th>\n",
       "      <th>disch_farmer_2</th>\n",
       "      <th>wl_farmer_1</th>\n",
       "      <th>value</th>\n",
       "    </tr>\n",
       "    <tr>\n",
       "      <th>date</th>\n",
       "      <th></th>\n",
       "      <th></th>\n",
       "      <th></th>\n",
       "      <th></th>\n",
       "      <th></th>\n",
       "    </tr>\n",
       "  </thead>\n",
       "  <tbody>\n",
       "    <tr>\n",
       "      <th>2011-01-01 00:00:00+10:00</th>\n",
       "      <td>7.216</td>\n",
       "      <td>589.060</td>\n",
       "      <td>NaN</td>\n",
       "      <td>NaN</td>\n",
       "      <td>0</td>\n",
       "    </tr>\n",
       "    <tr>\n",
       "      <th>2011-01-01 00:15:00+10:00</th>\n",
       "      <td>7.227</td>\n",
       "      <td>591.173</td>\n",
       "      <td>NaN</td>\n",
       "      <td>NaN</td>\n",
       "      <td>0</td>\n",
       "    </tr>\n",
       "    <tr>\n",
       "      <th>2011-01-01 00:30:00+10:00</th>\n",
       "      <td>7.218</td>\n",
       "      <td>589.444</td>\n",
       "      <td>NaN</td>\n",
       "      <td>NaN</td>\n",
       "      <td>0</td>\n",
       "    </tr>\n",
       "    <tr>\n",
       "      <th>2011-01-01 00:45:00+10:00</th>\n",
       "      <td>7.224</td>\n",
       "      <td>590.596</td>\n",
       "      <td>NaN</td>\n",
       "      <td>NaN</td>\n",
       "      <td>0</td>\n",
       "    </tr>\n",
       "    <tr>\n",
       "      <th>2011-01-01 01:00:00+10:00</th>\n",
       "      <td>7.213</td>\n",
       "      <td>588.485</td>\n",
       "      <td>NaN</td>\n",
       "      <td>NaN</td>\n",
       "      <td>0</td>\n",
       "    </tr>\n",
       "    <tr>\n",
       "      <th>...</th>\n",
       "      <td>...</td>\n",
       "      <td>...</td>\n",
       "      <td>...</td>\n",
       "      <td>...</td>\n",
       "      <td>...</td>\n",
       "    </tr>\n",
       "    <tr>\n",
       "      <th>2022-01-17 09:15:00+10:00</th>\n",
       "      <td>3.718</td>\n",
       "      <td>217.813</td>\n",
       "      <td>NaN</td>\n",
       "      <td>NaN</td>\n",
       "      <td>0</td>\n",
       "    </tr>\n",
       "    <tr>\n",
       "      <th>2022-01-17 09:30:00+10:00</th>\n",
       "      <td>3.718</td>\n",
       "      <td>217.813</td>\n",
       "      <td>NaN</td>\n",
       "      <td>NaN</td>\n",
       "      <td>0</td>\n",
       "    </tr>\n",
       "    <tr>\n",
       "      <th>2022-01-17 09:45:00+10:00</th>\n",
       "      <td>3.717</td>\n",
       "      <td>217.735</td>\n",
       "      <td>NaN</td>\n",
       "      <td>NaN</td>\n",
       "      <td>0</td>\n",
       "    </tr>\n",
       "    <tr>\n",
       "      <th>2022-01-17 10:00:00+10:00</th>\n",
       "      <td>3.719</td>\n",
       "      <td>217.891</td>\n",
       "      <td>NaN</td>\n",
       "      <td>NaN</td>\n",
       "      <td>0</td>\n",
       "    </tr>\n",
       "    <tr>\n",
       "      <th>2022-01-17 10:00:01+10:00</th>\n",
       "      <td>NaN</td>\n",
       "      <td>NaN</td>\n",
       "      <td>NaN</td>\n",
       "      <td>NaN</td>\n",
       "      <td>0</td>\n",
       "    </tr>\n",
       "  </tbody>\n",
       "</table>\n",
       "<p>388136 rows × 5 columns</p>\n",
       "</div>"
      ],
      "text/plain": [
       "                           level  discharge  disch_farmer_2  wl_farmer_1  \\\n",
       "date                                                                       \n",
       "2011-01-01 00:00:00+10:00  7.216    589.060             NaN          NaN   \n",
       "2011-01-01 00:15:00+10:00  7.227    591.173             NaN          NaN   \n",
       "2011-01-01 00:30:00+10:00  7.218    589.444             NaN          NaN   \n",
       "2011-01-01 00:45:00+10:00  7.224    590.596             NaN          NaN   \n",
       "2011-01-01 01:00:00+10:00  7.213    588.485             NaN          NaN   \n",
       "...                          ...        ...             ...          ...   \n",
       "2022-01-17 09:15:00+10:00  3.718    217.813             NaN          NaN   \n",
       "2022-01-17 09:30:00+10:00  3.718    217.813             NaN          NaN   \n",
       "2022-01-17 09:45:00+10:00  3.717    217.735             NaN          NaN   \n",
       "2022-01-17 10:00:00+10:00  3.719    217.891             NaN          NaN   \n",
       "2022-01-17 10:00:01+10:00    NaN        NaN             NaN          NaN   \n",
       "\n",
       "                           value  \n",
       "date                              \n",
       "2011-01-01 00:00:00+10:00      0  \n",
       "2011-01-01 00:15:00+10:00      0  \n",
       "2011-01-01 00:30:00+10:00      0  \n",
       "2011-01-01 00:45:00+10:00      0  \n",
       "2011-01-01 01:00:00+10:00      0  \n",
       "...                          ...  \n",
       "2022-01-17 09:15:00+10:00      0  \n",
       "2022-01-17 09:30:00+10:00      0  \n",
       "2022-01-17 09:45:00+10:00      0  \n",
       "2022-01-17 10:00:00+10:00      0  \n",
       "2022-01-17 10:00:01+10:00      0  \n",
       "\n",
       "[388136 rows x 5 columns]"
      ]
     },
     "execution_count": 15,
     "metadata": {},
     "output_type": "execute_result"
    }
   ],
   "source": [
    "riverdata = pd.DataFrame({'level':level['Value'], 'discharge':bb_discharge['Value']}, index = level.index)\n",
    "riverdata = riverdata.loc['2011': ]\n",
    "riverdata['disch_farmer_2'] = np.NaN\n",
    "riverdata['wl_farmer_1'] = np.NaN\n",
    "riverdata['value'] = 0\n",
    "riverdata"
   ]
  },
  {
   "cell_type": "code",
   "execution_count": 16,
   "metadata": {},
   "outputs": [],
   "source": [
    "days_setting = 14\n",
    "newsettingdates = [riverdata.index[4*24*days_setting]+days_setting*dt.timedelta(days=1)*i for i in range(11*int(365/days_setting))]"
   ]
  },
  {
   "cell_type": "code",
   "execution_count": 17,
   "metadata": {},
   "outputs": [
    {
     "data": {
      "text/html": [
       "<div>\n",
       "<style scoped>\n",
       "    .dataframe tbody tr th:only-of-type {\n",
       "        vertical-align: middle;\n",
       "    }\n",
       "\n",
       "    .dataframe tbody tr th {\n",
       "        vertical-align: top;\n",
       "    }\n",
       "\n",
       "    .dataframe thead th {\n",
       "        text-align: right;\n",
       "    }\n",
       "</style>\n",
       "<table border=\"1\" class=\"dataframe\">\n",
       "  <thead>\n",
       "    <tr style=\"text-align: right;\">\n",
       "      <th></th>\n",
       "      <th>level</th>\n",
       "      <th>discharge</th>\n",
       "      <th>disch_farmer_2</th>\n",
       "      <th>wl_farmer_1</th>\n",
       "      <th>value</th>\n",
       "    </tr>\n",
       "    <tr>\n",
       "      <th>date</th>\n",
       "      <th></th>\n",
       "      <th></th>\n",
       "      <th></th>\n",
       "      <th></th>\n",
       "      <th></th>\n",
       "    </tr>\n",
       "  </thead>\n",
       "  <tbody>\n",
       "    <tr>\n",
       "      <th>2011-01-01 00:00:00+10:00</th>\n",
       "      <td>7.216</td>\n",
       "      <td>589.060</td>\n",
       "      <td>NaN</td>\n",
       "      <td>NaN</td>\n",
       "      <td>0</td>\n",
       "    </tr>\n",
       "    <tr>\n",
       "      <th>2011-01-01 00:15:00+10:00</th>\n",
       "      <td>7.227</td>\n",
       "      <td>591.173</td>\n",
       "      <td>NaN</td>\n",
       "      <td>NaN</td>\n",
       "      <td>0</td>\n",
       "    </tr>\n",
       "    <tr>\n",
       "      <th>2011-01-01 00:30:00+10:00</th>\n",
       "      <td>7.218</td>\n",
       "      <td>589.444</td>\n",
       "      <td>NaN</td>\n",
       "      <td>NaN</td>\n",
       "      <td>0</td>\n",
       "    </tr>\n",
       "    <tr>\n",
       "      <th>2011-01-01 00:45:00+10:00</th>\n",
       "      <td>7.224</td>\n",
       "      <td>590.596</td>\n",
       "      <td>NaN</td>\n",
       "      <td>NaN</td>\n",
       "      <td>0</td>\n",
       "    </tr>\n",
       "    <tr>\n",
       "      <th>2011-01-01 01:00:00+10:00</th>\n",
       "      <td>7.213</td>\n",
       "      <td>588.485</td>\n",
       "      <td>NaN</td>\n",
       "      <td>NaN</td>\n",
       "      <td>0</td>\n",
       "    </tr>\n",
       "    <tr>\n",
       "      <th>...</th>\n",
       "      <td>...</td>\n",
       "      <td>...</td>\n",
       "      <td>...</td>\n",
       "      <td>...</td>\n",
       "      <td>...</td>\n",
       "    </tr>\n",
       "    <tr>\n",
       "      <th>2022-01-17 09:15:00+10:00</th>\n",
       "      <td>3.718</td>\n",
       "      <td>217.813</td>\n",
       "      <td>NaN</td>\n",
       "      <td>NaN</td>\n",
       "      <td>0</td>\n",
       "    </tr>\n",
       "    <tr>\n",
       "      <th>2022-01-17 09:30:00+10:00</th>\n",
       "      <td>3.718</td>\n",
       "      <td>217.813</td>\n",
       "      <td>NaN</td>\n",
       "      <td>NaN</td>\n",
       "      <td>0</td>\n",
       "    </tr>\n",
       "    <tr>\n",
       "      <th>2022-01-17 09:45:00+10:00</th>\n",
       "      <td>3.717</td>\n",
       "      <td>217.735</td>\n",
       "      <td>NaN</td>\n",
       "      <td>NaN</td>\n",
       "      <td>0</td>\n",
       "    </tr>\n",
       "    <tr>\n",
       "      <th>2022-01-17 10:00:00+10:00</th>\n",
       "      <td>3.719</td>\n",
       "      <td>217.891</td>\n",
       "      <td>NaN</td>\n",
       "      <td>NaN</td>\n",
       "      <td>0</td>\n",
       "    </tr>\n",
       "    <tr>\n",
       "      <th>2022-01-17 10:00:01+10:00</th>\n",
       "      <td>NaN</td>\n",
       "      <td>NaN</td>\n",
       "      <td>NaN</td>\n",
       "      <td>NaN</td>\n",
       "      <td>0</td>\n",
       "    </tr>\n",
       "  </tbody>\n",
       "</table>\n",
       "<p>388136 rows × 5 columns</p>\n",
       "</div>"
      ],
      "text/plain": [
       "                           level  discharge  disch_farmer_2  wl_farmer_1  \\\n",
       "date                                                                       \n",
       "2011-01-01 00:00:00+10:00  7.216    589.060             NaN          NaN   \n",
       "2011-01-01 00:15:00+10:00  7.227    591.173             NaN          NaN   \n",
       "2011-01-01 00:30:00+10:00  7.218    589.444             NaN          NaN   \n",
       "2011-01-01 00:45:00+10:00  7.224    590.596             NaN          NaN   \n",
       "2011-01-01 01:00:00+10:00  7.213    588.485             NaN          NaN   \n",
       "...                          ...        ...             ...          ...   \n",
       "2022-01-17 09:15:00+10:00  3.718    217.813             NaN          NaN   \n",
       "2022-01-17 09:30:00+10:00  3.718    217.813             NaN          NaN   \n",
       "2022-01-17 09:45:00+10:00  3.717    217.735             NaN          NaN   \n",
       "2022-01-17 10:00:00+10:00  3.719    217.891             NaN          NaN   \n",
       "2022-01-17 10:00:01+10:00    NaN        NaN             NaN          NaN   \n",
       "\n",
       "                           value  \n",
       "date                              \n",
       "2011-01-01 00:00:00+10:00      0  \n",
       "2011-01-01 00:15:00+10:00      0  \n",
       "2011-01-01 00:30:00+10:00      0  \n",
       "2011-01-01 00:45:00+10:00      0  \n",
       "2011-01-01 01:00:00+10:00      0  \n",
       "...                          ...  \n",
       "2022-01-17 09:15:00+10:00      0  \n",
       "2022-01-17 09:30:00+10:00      0  \n",
       "2022-01-17 09:45:00+10:00      0  \n",
       "2022-01-17 10:00:00+10:00      0  \n",
       "2022-01-17 10:00:01+10:00      0  \n",
       "\n",
       "[388136 rows x 5 columns]"
      ]
     },
     "execution_count": 17,
     "metadata": {},
     "output_type": "execute_result"
    }
   ],
   "source": [
    "for newsettingdate in newsettingdates:\n",
    "    level_weir = np.random.uniform(0,4)\n",
    "    discharge = np.random.uniform(0,30)\n",
    "    riverdata.loc[newsettingdate, 'wl_farmer_1'] = level_weir\n",
    "    riverdata.loc[newsettingdate,'disch_farmer_2'] = discharge\n",
    "riverdata"
   ]
  },
  {
   "cell_type": "code",
   "execution_count": 18,
   "metadata": {},
   "outputs": [
    {
     "data": {
      "text/plain": [
       "<AxesSubplot:xlabel='date'>"
      ]
     },
     "execution_count": 18,
     "metadata": {},
     "output_type": "execute_result"
    },
    {
     "data": {
      "image/png": "[encoded data removed]",
      "text/plain": [
       "<Figure size 432x288 with 1 Axes>"
      ]
     },
     "metadata": {
      "needs_background": "light"
     },
     "output_type": "display_data"
    }
   ],
   "source": [
    "riverdata[['disch_farmer_2','wl_farmer_1']] = riverdata[['disch_farmer_2','wl_farmer_1']].ffill()\n",
    "riverdata[['disch_farmer_2','wl_farmer_1']].plot()"
   ]
  },
  {
   "cell_type": "code",
   "execution_count": 19,
   "metadata": {},
   "outputs": [],
   "source": [
    "import neat"
   ]
  },
  {
   "cell_type": "code",
   "execution_count": 20,
   "metadata": {},
   "outputs": [],
   "source": [
    "generation = 0"
   ]
  },
  {
   "cell_type": "code",
   "execution_count": 21,
   "metadata": {},
   "outputs": [],
   "source": [
    "config_path = \"config_expl.txt\"\n",
    "config = neat.config.Config(neat.DefaultGenome,\n",
    "                            neat.DefaultReproduction,\n",
    "                            neat.DefaultSpeciesSet,\n",
    "                            neat.DefaultStagnation,\n",
    "                            config_path)"
   ]
  },
  {
   "cell_type": "code",
   "execution_count": 22,
   "metadata": {},
   "outputs": [
    {
     "data": {
      "text/plain": [
       "<neat.config.Config at 0x1d7ce14a130>"
      ]
     },
     "execution_count": 22,
     "metadata": {},
     "output_type": "execute_result"
    }
   ],
   "source": [
    "config"
   ]
  },
  {
   "cell_type": "code",
   "execution_count": 26,
   "metadata": {},
   "outputs": [
    {
     "name": "stdout",
     "output_type": "stream",
     "text": [
      "2011-01-14 23:30:00+10:00\n",
      "2011-01-28 23:30:00+10:00\n",
      "2011-02-11 23:30:00+10:00\n",
      "2011-02-25 23:30:00+10:00\n",
      "2011-03-11 23:30:00+10:00\n",
      "2011-03-25 23:30:00+10:00\n",
      "2011-04-08 23:30:00+10:00\n",
      "2011-04-22 23:30:00+10:00\n",
      "2011-05-06 23:30:00+10:00\n",
      "2011-05-20 23:30:00+10:00\n"
     ]
    }
   ],
   "source": [
    "i = 0\n",
    "enum_nsd = iter(newsettingdates)\n",
    "while i < 10:\n",
    "    newsettingdate = next(enum_nsd)\n",
    "    print(newsettingdate)\n",
    "    i+=1"
   ]
  },
  {
   "cell_type": "code",
   "execution_count": null,
   "metadata": {},
   "outputs": [],
   "source": [
    "# inputs = water level, discharge now (will be more)"
   ]
  },
  {
   "cell_type": "code",
   "execution_count": 9,
   "metadata": {},
   "outputs": [],
   "source": [
    "def run_control(genomes, config):\n",
    "    # Init NEAT\n",
    "    nets = []\n",
    "    controls = []\n",
    "\n",
    "    for id, g in genomes:\n",
    "        net = neat.nn.FeedForwardNetwork.create(g, config)\n",
    "        nets.append(net)\n",
    "        g.fitness = 0\n",
    "\n",
    "        # Init my cars\n",
    "        controls.append(Control())\n",
    "\n",
    "\n",
    "    # Main loop\n",
    "    global generation\n",
    "    generation += 1\n",
    "\n",
    "    enum_nsd = iter(newsettingdates)\n",
    "    ind = next(enum_nsd)\n",
    "\n",
    "    while True:\n",
    "        \n",
    "        # Input my data and get result from network\n",
    "        dis = riverdata['discharge'][ind]\n",
    "        lev = riverdata['level'][ind]\n",
    "\n",
    "        for i, control in enumerate(controls):\n",
    "            output = nets[i].activate([dis, lev])\n",
    "            \n",
    "            print(output) # output min/max ?\n",
    "\n",
    "            ind = next(enum_nsd)\n",
    "            genomes[i][1].fitness += control.return_total_value()\n",
    "\n",
    "        break"
   ]
  },
  {
   "cell_type": "code",
   "execution_count": 8,
   "metadata": {},
   "outputs": [
    {
     "ename": "NameError",
     "evalue": "name 'run_control' is not defined",
     "output_type": "error",
     "traceback": [
      "\u001b[1;31m---------------------------------------------------------------------------\u001b[0m",
      "\u001b[1;31mNameError\u001b[0m                                 Traceback (most recent call last)",
      "\u001b[1;32m~\\AppData\\Local\\Temp/ipykernel_5584/1374443184.py\u001b[0m in \u001b[0;36m<module>\u001b[1;34m\u001b[0m\n\u001b[0;32m      7\u001b[0m \u001b[1;33m\u001b[0m\u001b[0m\n\u001b[0;32m      8\u001b[0m \u001b[1;31m# Run NEAT\u001b[0m\u001b[1;33m\u001b[0m\u001b[1;33m\u001b[0m\u001b[0m\n\u001b[1;32m----> 9\u001b[1;33m \u001b[0mp\u001b[0m\u001b[1;33m.\u001b[0m\u001b[0mrun\u001b[0m\u001b[1;33m(\u001b[0m\u001b[0mrun_control\u001b[0m\u001b[1;33m,\u001b[0m \u001b[1;36m1000\u001b[0m\u001b[1;33m)\u001b[0m\u001b[1;33m\u001b[0m\u001b[1;33m\u001b[0m\u001b[0m\n\u001b[0m",
      "\u001b[1;31mNameError\u001b[0m: name 'run_control' is not defined"
     ]
    }
   ],
   "source": [
    "p = neat.Population(config)\n",
    "\n",
    "# Add reporter for fancy statistical result\n",
    "p.add_reporter(neat.StdOutReporter(True))\n",
    "stats = neat.StatisticsReporter()\n",
    "p.add_reporter(stats)\n",
    "\n",
    "# Run NEAT\n",
    "p.run(run_control, 1000)"
   ]
  },
  {
   "cell_type": "code",
   "execution_count": null,
   "metadata": {},
   "outputs": [],
   "source": []
  }
 ],
 "metadata": {
  "interpreter": {
   "hash": "e9bf5ea6756989dd3d95b9af5c0fcac745957fdd5ffeb8383041856ffe00f994"
  },
  "kernelspec": {
   "display_name": "Python 3.9.7 64-bit ('prediction_and_neat': conda)",
   "language": "python",
   "name": "python3"
  },
  "language_info": {
   "codemirror_mode": {
    "name": "ipython",
    "version": 3
   },
   "file_extension": ".py",
   "mimetype": "text/x-python",
   "name": "python",
   "nbconvert_exporter": "python",
   "pygments_lexer": "ipython3",
   "version": "3.9.7"
  },
  "orig_nbformat": 4
 },
 "nbformat": 4,
 "nbformat_minor": 2
}
