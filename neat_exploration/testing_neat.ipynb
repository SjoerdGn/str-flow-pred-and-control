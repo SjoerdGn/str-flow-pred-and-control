{
 "cells": [
  {
   "cell_type": "code",
   "execution_count": 1,
   "metadata": {},
   "outputs": [],
   "source": [
    "import pandas as pd\n",
    "import pandas as pd\n",
    "import matplotlib.pyplot as plt\n",
    "import numpy as np\n",
    "from predcontrol_sf.control import User, Control\n",
    "import predcontrol_sf.value_curves as vc\n",
    "from predcontrol_sf.data_loader import load_data_bom_aus\n",
    "from pathlib import Path\n",
    "import datetime as dt\n"
   ]
  },
  {
   "cell_type": "code",
   "execution_count": 2,
   "metadata": {},
   "outputs": [],
   "source": [
    "user1 = User(vc.value_curve_farmer_1, discharge_curve=vc.discharge_curve_farmer_1)\n",
    "user2 = User(vc.value_curve_farmer_2)"
   ]
  },
  {
   "cell_type": "code",
   "execution_count": 3,
   "metadata": {},
   "outputs": [],
   "source": [
    "ctrl = Control([user1, user2])"
   ]
  },
  {
   "cell_type": "code",
   "execution_count": null,
   "metadata": {},
   "outputs": [],
   "source": [
    "data_folder = Path(r\"C:\\Users\\sgnodde\\Documents\\data\\data_murray_boundary_bend\")\n",
    "bb_discharge = load_data_bom_aus(data_folder / 'bb_discharge.csv')\n",
    "level = load_data_bom_aus(data_folder / 'bb_level.csv')"
   ]
  },
  {
   "cell_type": "code",
   "execution_count": null,
   "metadata": {},
   "outputs": [],
   "source": [
    "riverdata = pd.DataFrame({'level':level['Value'], 'discharge':bb_discharge['Value']}, index = level.index)\n",
    "riverdata = riverdata.loc['2011': ]\n",
    "riverdata['disch_farmer_2'] = np.NaN\n",
    "riverdata['wl_farmer_1'] = np.NaN\n",
    "riverdata['value'] = 0\n",
    "riverdata"
   ]
  },
  {
   "cell_type": "code",
   "execution_count": null,
   "metadata": {},
   "outputs": [],
   "source": [
    "days_setting = 14\n",
    "newsettingdates = [riverdata.index[4*24*days_setting]+days_setting*dt.timedelta(days=1)*i for i in range(11*int(365/days_setting))]"
   ]
  },
  {
   "cell_type": "code",
   "execution_count": null,
   "metadata": {},
   "outputs": [],
   "source": [
    "for newsettingdate in newsettingdates:\n",
    "    level_weir = np.random.uniform(0,4)\n",
    "    discharge = np.random.uniform(0,30)\n",
    "    riverdata.loc[newsettingdate, 'wl_farmer_1'] = level_weir\n",
    "    riverdata.loc[newsettingdate,'disch_farmer_2'] = discharge\n",
    "riverdata"
   ]
  },
  {
   "cell_type": "code",
   "execution_count": null,
   "metadata": {},
   "outputs": [],
   "source": [
    "riverdata[['disch_farmer_2','wl_farmer_1']] = riverdata[['disch_farmer_2','wl_farmer_1']].ffill()\n",
    "riverdata[['disch_farmer_2','wl_farmer_1']].plot()"
   ]
  },
  {
   "cell_type": "code",
   "execution_count": 4,
   "metadata": {},
   "outputs": [],
   "source": [
    "import neat"
   ]
  },
  {
   "cell_type": "code",
   "execution_count": null,
   "metadata": {},
   "outputs": [],
   "source": [
    "generation = 0"
   ]
  },
  {
   "cell_type": "code",
   "execution_count": 6,
   "metadata": {},
   "outputs": [],
   "source": [
    "config_path = \"config_expl.txt\"\n",
    "config = neat.config.Config(neat.DefaultGenome,\n",
    "                            neat.DefaultReproduction,\n",
    "                            neat.DefaultSpeciesSet,\n",
    "                            neat.DefaultStagnation,\n",
    "                            config_path)"
   ]
  },
  {
   "cell_type": "code",
   "execution_count": 7,
   "metadata": {},
   "outputs": [
    {
     "data": {
      "text/plain": [
       "<neat.config.Config at 0x1d7c219ddf0>"
      ]
     },
     "execution_count": 7,
     "metadata": {},
     "output_type": "execute_result"
    }
   ],
   "source": [
    "config"
   ]
  },
  {
   "cell_type": "code",
   "execution_count": null,
   "metadata": {},
   "outputs": [],
   "source": [
    "def run_control(genomes, config):\n",
    "    # Init NEAT\n",
    "    nets = []\n",
    "    cars = []\n",
    "\n",
    "    for id, g in genomes:\n",
    "        net = neat.nn.FeedForwardNetwork.create(g, config)\n",
    "        nets.append(net)\n",
    "        g.fitness = 0\n",
    "\n",
    "        # Init my cars\n",
    "        cars.append(Car())\n",
    "\n",
    "    # Init my game\n",
    "    pygame.init()\n",
    "    screen = pygame.display.set_mode((screen_width, screen_height))\n",
    "    clock = pygame.time.Clock()\n",
    "    generation_font = pygame.font.SysFont(\"Arial\", 70)\n",
    "    font = pygame.font.SysFont(\"Arial\", 30)\n",
    "    map = pygame.image.load('map.png')\n",
    "\n",
    "\n",
    "    # Main loop\n",
    "    global generation\n",
    "    generation += 1\n",
    "    while True:\n",
    "        for event in pygame.event.get():\n",
    "            if event.type == pygame.QUIT:\n",
    "                sys.exit(0)\n",
    "\n",
    "\n",
    "        # Input my data and get result from network\n",
    "        for index, car in enumerate(cars):\n",
    "            output = nets[index].activate(car.get_data())\n",
    "            i = output.index(max(output))\n",
    "            if i == 0:\n",
    "                car.angle += 10\n",
    "            else:\n",
    "                car.angle -= 10\n",
    "\n",
    "        # Update car and fitness\n",
    "        remain_cars = 0\n",
    "        for i, car in enumerate(cars):\n",
    "            if car.get_alive():\n",
    "                remain_cars += 1\n",
    "                car.update(map)\n",
    "                genomes[i][1].fitness += car.get_reward()"
   ]
  },
  {
   "cell_type": "code",
   "execution_count": null,
   "metadata": {},
   "outputs": [],
   "source": [
    "p = neat.Population(config)\n",
    "\n",
    "# Add reporter for fancy statistical result\n",
    "p.add_reporter(neat.StdOutReporter(True))\n",
    "stats = neat.StatisticsReporter()\n",
    "p.add_reporter(stats)\n",
    "\n",
    "# Run NEAT\n",
    "p.run(run_control, 1000)"
   ]
  }
 ],
 "metadata": {
  "interpreter": {
   "hash": "e9bf5ea6756989dd3d95b9af5c0fcac745957fdd5ffeb8383041856ffe00f994"
  },
  "kernelspec": {
   "display_name": "Python 3.9.7 64-bit ('prediction_and_neat': conda)",
   "language": "python",
   "name": "python3"
  },
  "language_info": {
   "codemirror_mode": {
    "name": "ipython",
    "version": 3
   },
   "file_extension": ".py",
   "mimetype": "text/x-python",
   "name": "python",
   "nbconvert_exporter": "python",
   "pygments_lexer": "ipython3",
   "version": "3.9.7"
  },
  "orig_nbformat": 4
 },
 "nbformat": 4,
 "nbformat_minor": 2
}
